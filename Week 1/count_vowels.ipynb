{
 "cells": [
  {
   "cell_type": "code",
   "execution_count": 1,
   "id": "0ee2a3c3-89ed-4d8e-a7f6-f77b6761aa3c",
   "metadata": {},
   "outputs": [
    {
     "data": {
      "text/plain": [
       "3"
      ]
     },
     "execution_count": 1,
     "metadata": {},
     "output_type": "execute_result"
    }
   ],
   "source": [
    "def count_vowels(word):\n",
    "    vowels = 'aeiouAEIOU'  \n",
    "    count = 0  \n",
    "    for letter in word:  \n",
    "        if letter in vowels:  \n",
    "            count += 1  \n",
    "    return count  \n",
    "\n",
    "count_vowels(\"elephant\")"
   ]
  },
  {
   "cell_type": "code",
   "execution_count": 2,
   "id": "8393363c-651c-4d5b-87c3-37384cf1d754",
   "metadata": {},
   "outputs": [
    {
     "data": {
      "text/plain": [
       "0"
      ]
     },
     "execution_count": 2,
     "metadata": {},
     "output_type": "execute_result"
    }
   ],
   "source": [
    "count_vowels(\"rhythm\")"
   ]
  },
  {
   "cell_type": "code",
   "execution_count": null,
   "id": "b0135514-32c5-45b3-8905-653c6e9a492c",
   "metadata": {},
   "outputs": [],
   "source": []
  }
 ],
 "metadata": {
  "kernelspec": {
   "display_name": "Python 3 (ipykernel)",
   "language": "python",
   "name": "python3"
  },
  "language_info": {
   "codemirror_mode": {
    "name": "ipython",
    "version": 3
   },
   "file_extension": ".py",
   "mimetype": "text/x-python",
   "name": "python",
   "nbconvert_exporter": "python",
   "pygments_lexer": "ipython3",
   "version": "3.9.6"
  }
 },
 "nbformat": 4,
 "nbformat_minor": 5
}
